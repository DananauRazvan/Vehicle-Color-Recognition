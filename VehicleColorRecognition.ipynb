{
  "nbformat": 4,
  "nbformat_minor": 0,
  "metadata": {
    "colab": {
      "name": "VehicleColorRecognition.ipynb",
      "provenance": [],
      "authorship_tag": "ABX9TyODqRRHo4sFQjcDIB6L/rOW",
      "include_colab_link": true
    },
    "kernelspec": {
      "name": "python3",
      "display_name": "Python 3"
    },
    "language_info": {
      "name": "python"
    }
  },
  "cells": [
    {
      "cell_type": "markdown",
      "metadata": {
        "id": "view-in-github",
        "colab_type": "text"
      },
      "source": [
        "<a href=\"https://colab.research.google.com/github/DananauRazvan/Vehicle-Color-Recognition/blob/main/VehicleColorRecognition.ipynb\" target=\"_parent\"><img src=\"https://colab.research.google.com/assets/colab-badge.svg\" alt=\"Open In Colab\"/></a>"
      ]
    },
    {
      "cell_type": "code",
      "metadata": {
        "id": "alnBheaas9kb",
        "outputId": "b07f2c1c-6991-45bc-9629-984cc7ed9048",
        "colab": {
          "base_uri": "https://localhost:8080/"
        }
      },
      "source": [
        "!pip install sklearn_som"
      ],
      "execution_count": 42,
      "outputs": [
        {
          "output_type": "stream",
          "text": [
            "Requirement already satisfied: sklearn_som in /usr/local/lib/python3.7/dist-packages (1.1.0)\n",
            "Requirement already satisfied: numpy in /usr/local/lib/python3.7/dist-packages (from sklearn_som) (1.19.3)\n"
          ],
          "name": "stdout"
        }
      ]
    },
    {
      "cell_type": "code",
      "metadata": {
        "id": "hoNLNgkgsp18",
        "outputId": "2165ea95-1951-469e-b97d-fa4e2640af8f",
        "colab": {
          "base_uri": "https://localhost:8080/"
        }
      },
      "source": [
        "!pip install imageAi"
      ],
      "execution_count": 43,
      "outputs": [
        {
          "output_type": "stream",
          "text": [
            "Requirement already satisfied: imageAi in /usr/local/lib/python3.7/dist-packages (2.1.6)\n",
            "Requirement already satisfied: keras-resnet==0.2.0 in /usr/local/lib/python3.7/dist-packages (from imageAi) (0.2.0)\n",
            "Requirement already satisfied: h5py==2.10.0 in /usr/local/lib/python3.7/dist-packages (from imageAi) (2.10.0)\n",
            "Requirement already satisfied: matplotlib==3.3.2 in /usr/local/lib/python3.7/dist-packages (from imageAi) (3.3.2)\n",
            "Requirement already satisfied: opencv-python in /usr/local/lib/python3.7/dist-packages (from imageAi) (4.1.2.30)\n",
            "Requirement already satisfied: scipy==1.4.1 in /usr/local/lib/python3.7/dist-packages (from imageAi) (1.4.1)\n",
            "Requirement already satisfied: keras==2.4.3 in /usr/local/lib/python3.7/dist-packages (from imageAi) (2.4.3)\n",
            "Requirement already satisfied: numpy==1.19.3 in /usr/local/lib/python3.7/dist-packages (from imageAi) (1.19.3)\n",
            "Requirement already satisfied: pillow==7.0.0 in /usr/local/lib/python3.7/dist-packages (from imageAi) (7.0.0)\n",
            "Requirement already satisfied: six in /usr/local/lib/python3.7/dist-packages (from h5py==2.10.0->imageAi) (1.15.0)\n",
            "Requirement already satisfied: pyyaml in /usr/local/lib/python3.7/dist-packages (from keras==2.4.3->imageAi) (3.13)\n",
            "Requirement already satisfied: python-dateutil>=2.1 in /usr/local/lib/python3.7/dist-packages (from matplotlib==3.3.2->imageAi) (2.8.1)\n",
            "Requirement already satisfied: kiwisolver>=1.0.1 in /usr/local/lib/python3.7/dist-packages (from matplotlib==3.3.2->imageAi) (1.3.1)\n",
            "Requirement already satisfied: pyparsing!=2.0.4,!=2.1.2,!=2.1.6,>=2.0.3 in /usr/local/lib/python3.7/dist-packages (from matplotlib==3.3.2->imageAi) (2.4.7)\n",
            "Requirement already satisfied: cycler>=0.10 in /usr/local/lib/python3.7/dist-packages (from matplotlib==3.3.2->imageAi) (0.10.0)\n",
            "Requirement already satisfied: certifi>=2020.06.20 in /usr/local/lib/python3.7/dist-packages (from matplotlib==3.3.2->imageAi) (2021.5.30)\n"
          ],
          "name": "stdout"
        }
      ]
    },
    {
      "cell_type": "code",
      "metadata": {
        "id": "mFkxN5hIrjPb",
        "outputId": "56f0b8fc-62d2-42b2-8fd5-805fddff7296",
        "colab": {
          "base_uri": "https://localhost:8080/"
        }
      },
      "source": [
        "from google.colab import drive\n",
        "drive.mount('/content/gdrive')"
      ],
      "execution_count": 44,
      "outputs": [
        {
          "output_type": "stream",
          "text": [
            "Drive already mounted at /content/gdrive; to attempt to forcibly remount, call drive.mount(\"/content/gdrive\", force_remount=True).\n"
          ],
          "name": "stdout"
        }
      ]
    },
    {
      "cell_type": "code",
      "metadata": {
        "id": "_wipI8BVe8Iu"
      },
      "source": [
        "import glob\n",
        "import os\n",
        "import imageio\n",
        "import keras\n",
        "from keras.models import Sequential\n",
        "from keras.layers import Dense, Conv2D, MaxPool2D, Flatten\n",
        "from keras.optimizers import Adam\n",
        "import tensorflow\n",
        "from imageai.Detection import ObjectDetection\n",
        "from PIL import Image\n",
        "from sklearn.decomposition import PCA\n",
        "import cv2\n",
        "from sklearn.neighbors import KNeighborsClassifier\n",
        "import numpy as np\n",
        "from sklearn.preprocessing import StandardScaler\n",
        "from sklearn import metrics\n",
        "from sklearn.cluster import KMeans\n",
        "import matplotlib.pyplot as plt\n",
        "from matplotlib.colors import ListedColormap\n",
        "from sklearn.svm import SVC\n",
        "from sklearn.naive_bayes import GaussianNB\n",
        "from sklearn_som.som import SOM"
      ],
      "execution_count": 45,
      "outputs": []
    },
    {
      "cell_type": "code",
      "metadata": {
        "id": "87XxatWgg1l5"
      },
      "source": [
        "def vehicleDetector(inputPath, outputPath):\n",
        "    detector = ObjectDetection()\n",
        "\n",
        "    modelPath = 'C:/Users/razva/OneDrive/Desktop/Vehicle Color Recognition/yolo.h5'\n",
        "\n",
        "    detector.setModelTypeAsYOLOv3()\n",
        "    detector.setModelPath(modelPath, )\n",
        "    detector.loadModel(detection_speed = 'flash')\n",
        "\n",
        "    for imagePath in glob.glob(inputPath):\n",
        "        returnedImage, detection = detector.detectObjectsFromImage(input_image = imagePath, output_type = 'array')\n",
        "        maxPercentageProbability = 0\n",
        "        index = -1\n",
        "        i = -1\n",
        "        ok = False\n",
        "        for eachItem in detection:\n",
        "            i += 1\n",
        "            if (eachItem['name'] == 'car' or eachItem['name'] == 'truck' or eachItem['name'] == 'motorcycle') and eachItem['percentage_probability'] > maxPercentageProbability:\n",
        "                index = i\n",
        "                maxPercentageProbability = eachItem['percentage_probability']\n",
        "                ok = True\n",
        "\n",
        "        if ok:\n",
        "            print(detection[index]['name'], \" : \", detection[index]['percentage_probability'], \" : \", detection[index]['box_points'])\n",
        "            image = Image.open(imagePath)\n",
        "            box = detection[index]['box_points']\n",
        "            image = image.crop(box)\n",
        "            image = image.resize((224, 224))\n",
        "            image.save(outputPath + imagePath[71:])\n",
        "        else:\n",
        "            print('undetectable')\n",
        "            image = Image.open(imagePath)\n",
        "            image = image.resize((224, 224))\n",
        "            image.save(outputPath + imagePath[71:])\n",
        "            continue"
      ],
      "execution_count": 46,
      "outputs": []
    },
    {
      "cell_type": "code",
      "metadata": {
        "id": "Luxp3blug71d"
      },
      "source": [
        "def principalComponentAnalysis(inputPath, outputPath):\n",
        "    for imagePath in glob.glob(inputPath):\n",
        "        image = cv2.imread(imagePath)\n",
        "\n",
        "        red, green, blue = cv2.split(image)\n",
        "\n",
        "        dfRed = red / 255\n",
        "        dfBlue = blue / 255\n",
        "        dfGreen = green / 255\n",
        "\n",
        "        pcaRed = PCA(n_components = 10)\n",
        "        pcaRed.fit(dfRed)\n",
        "        transPcaRed = pcaRed.transform(dfRed)\n",
        "        pcaBlue = PCA(n_components = 10)\n",
        "        pcaBlue.fit(dfBlue)\n",
        "        transPcaBlue = pcaBlue.transform(dfBlue)\n",
        "        pcaGreen = PCA(n_components = 10)\n",
        "        pcaGreen.fit(dfGreen)\n",
        "        transPcaGreen = pcaGreen.transform(dfGreen)\n",
        "\n",
        "        redArr = pcaRed.inverse_transform(transPcaRed)\n",
        "        blueArr = pcaBlue.inverse_transform(transPcaBlue)\n",
        "        greenArr = pcaGreen.inverse_transform(transPcaGreen)\n",
        "\n",
        "        imageReduced = (cv2.merge((redArr, greenArr, blueArr)))\n",
        "        os.mkdir(\"/content/gdrive/MyDrive/dataset/AAAAAA\")\n",
        "        if inputPath == 'C:/Users/razva/OneDrive/Desktop/Vehicle Color Recognition/dataset/newTrain/*.jpg':\n",
        "            name = imagePath[75:]\n",
        "        else:\n",
        "            name = imagePath[74:]\n",
        "\n",
        "        cv2.imwrite(outputPath + name, imageReduced * 255)"
      ],
      "execution_count": 60,
      "outputs": []
    },
    {
      "cell_type": "code",
      "metadata": {
        "id": "ZFMabcJgiYO-"
      },
      "source": [
        "def knn(trainImages, trainLabels, testImages, testLabels, k = 59, dist = 'manhattan'):\n",
        "    trainImages = np.array(trainImages)\n",
        "    nr, height, width, dim = trainImages.shape\n",
        "    trainImages = trainImages.reshape(nr, height * width * dim)\n",
        "\n",
        "    testImages = np.array(testImages)\n",
        "    nr, height, width, dim = testImages.shape\n",
        "    testImages = testImages.reshape(nr, height * width * dim)\n",
        "\n",
        "    scaler = StandardScaler()\n",
        "\n",
        "    scaler.fit(trainImages)\n",
        "\n",
        "    trainImages = scaler.transform(trainImages)\n",
        "    testImages = scaler.transform(testImages)\n",
        "\n",
        "    classifier = KNeighborsClassifier(n_neighbors = k, metric = dist)\n",
        "\n",
        "    classifier.fit(trainImages, trainLabels)\n",
        "\n",
        "    pred = classifier.predict(testImages)\n",
        "\n",
        "    print(metrics.accuracy_score(testLabels, pred))\n",
        "\n",
        "    print(metrics.classification_report(testLabels, pred))\n",
        "\n",
        "    print(metrics.confusion_matrix(testLabels, pred))\n",
        "\n",
        "    return metrics.accuracy_score(testLabels, pred)"
      ],
      "execution_count": 48,
      "outputs": []
    },
    {
      "cell_type": "code",
      "metadata": {
        "id": "PzREDaKJicQV"
      },
      "source": [
        "def findOptimalK():\n",
        "    accuracy = []\n",
        "    for i in range(1, 100):\n",
        "        accuracy.append(knn(trainImages, trainLabels, testImages, testLabels, i))\n",
        "    accuracy = np.array(accuracy)\n",
        "\n",
        "    plt.figure(figsize = (10, 6))\n",
        "    plt.plot(range(1, 100), accuracy, color = 'red', linestyle = 'dashed', marker = 'o', markerfacecolor = 'blue', markersize = 8)\n",
        "    plt.title('Manhattan Distance')\n",
        "    plt.xlabel('K')\n",
        "    plt.ylabel('Accuracy')\n",
        "\n",
        "    plt.show()"
      ],
      "execution_count": 49,
      "outputs": []
    },
    {
      "cell_type": "code",
      "metadata": {
        "id": "Xcr25cXhis_d"
      },
      "source": [
        "def svm(trainImages, trainLabels, testImages, testLabels):\n",
        "    trainImages = np.array(trainImages)\n",
        "    nr, height, width, dim = trainImages.shape\n",
        "    trainImages = trainImages.reshape(nr, height * width * dim)\n",
        "\n",
        "    testImages = np.array(testImages)\n",
        "    nr, height, width, dim = testImages.shape\n",
        "    testImages = testImages.reshape(nr, height * width * dim)\n",
        "\n",
        "    scaler = StandardScaler()\n",
        "\n",
        "    scaler.fit(trainImages)\n",
        "\n",
        "    trainImages = scaler.transform(trainImages)\n",
        "    testImages = scaler.transform(testImages)\n",
        "\n",
        "    classifier = SVC(kernel = 'linear')\n",
        "\n",
        "    classifier.fit(trainImages, trainLabels)\n",
        "\n",
        "    pred = classifier.predict(testImages)\n",
        "\n",
        "    print(metrics.accuracy_score(testLabels, pred))\n",
        "\n",
        "    print(metrics.classification_report(testLabels, pred))\n",
        "\n",
        "    print(metrics.confusion_matrix(testLabels, pred))"
      ],
      "execution_count": 50,
      "outputs": []
    },
    {
      "cell_type": "code",
      "metadata": {
        "id": "7hspNxQUiwRE"
      },
      "source": [
        "def naiveBayes(trainImages, trainLabels, testImages, testLabels):\n",
        "    trainImages = np.array(trainImages)\n",
        "    nr, height, width, dim = trainImages.shape\n",
        "    trainImages = trainImages.reshape(nr, height * width * dim)\n",
        "\n",
        "    testImages = np.array(testImages)\n",
        "    nr, height, width, dim = testImages.shape\n",
        "    testImages = testImages.reshape(nr, height * width * dim)\n",
        "\n",
        "    scaler = StandardScaler()\n",
        "\n",
        "    scaler.fit(trainImages)\n",
        "\n",
        "    trainImages = scaler.transform(trainImages)\n",
        "    testImages = scaler.transform(testImages)\n",
        "\n",
        "    classifier = GaussianNB()\n",
        "\n",
        "    classifier.fit(trainImages, trainLabels)\n",
        "\n",
        "    pred = classifier.predict(testImages)\n",
        "\n",
        "    print(metrics.accuracy_score(testLabels, pred))\n",
        "\n",
        "    print(metrics.classification_report(testLabels, pred))\n",
        "\n",
        "    print(metrics.confusion_matrix(testLabels, pred))"
      ],
      "execution_count": 51,
      "outputs": []
    },
    {
      "cell_type": "code",
      "metadata": {
        "id": "e9hSUfleixXn"
      },
      "source": [
        "def kMeansClustering(trainImages):\n",
        "    trainImages = np.array(trainImages)\n",
        "    nr, height, width, dim = trainImages.shape\n",
        "    trainImages = trainImages.reshape(nr, height * width * dim)\n",
        "\n",
        "    \"\"\"\n",
        "    plt.scatter(trainImages[:, 0], trainImages[:, 1])\n",
        "    plt.show()\n",
        "    \"\"\"\n",
        "\n",
        "    clustering = KMeans(n_clusters = 9)\n",
        "\n",
        "    clustering.fit(trainImages)\n",
        "\n",
        "    plt.scatter(trainImages[:, 0], trainImages[:, 1], c = clustering.labels_, cmap = 'rainbow')\n",
        "    plt.show()"
      ],
      "execution_count": 52,
      "outputs": []
    },
    {
      "cell_type": "code",
      "metadata": {
        "id": "PleZ4IpBi2-V"
      },
      "source": [
        "def selfOrganizingMaps(images, labels):\n",
        "    images = np.array(images)\n",
        "    nr, height, width, dim = images.shape\n",
        "    images = images.reshape(nr, height * width * dim)\n",
        "\n",
        "    scaler = StandardScaler()\n",
        "\n",
        "    scaler.fit(images)\n",
        "\n",
        "    images = scaler.transform(images)\n",
        "\n",
        "    cls = SOM(m = 9, n = 1, dim = height * width * dim)\n",
        "\n",
        "    cls.fit(images)\n",
        "\n",
        "    pred = cls.predict(images)\n",
        "\n",
        "    fig, ax = plt.subplots(nrows = 2, ncols = 1, figsize = (5, 7))\n",
        "    x = images[:, 0]\n",
        "    y = images[:, 1]\n",
        "    colors = ['black', 'blue', 'brown', 'green', 'pink', 'red', 'silver', 'white', 'yellow']\n",
        "\n",
        "    ax[0].scatter(x, y, c = labels, cmap = ListedColormap(colors))\n",
        "    ax[0].title.set_text('Actual Classes Standardization')\n",
        "    ax[1].scatter(x, y, c = pred, cmap = ListedColormap(colors))\n",
        "    ax[1].title.set_text('SOM Predictions Standardization')\n",
        "\n",
        "    plt.show()"
      ],
      "execution_count": 53,
      "outputs": []
    },
    {
      "cell_type": "code",
      "metadata": {
        "id": "eG4VVnjQi33G"
      },
      "source": [
        "def vgg16(trainImages, trainLabels, testImages, testLabels):\n",
        "    trainImages = np.array(trainImages)\n",
        "    trainLabels = np.array(trainLabels)\n",
        "    testImages = np.array(testImages)\n",
        "    testLabels = np.array(testLabels)\n",
        "\n",
        "    model = Sequential()\n",
        "\n",
        "    model.add(Conv2D(input_shape = (224, 224, 3), filters = 64, kernel_size = (3, 3), padding = \"same\", activation = \"relu\"))\n",
        "    model.add(Conv2D(filters = 64, kernel_size = (3, 3), padding = \"same\", activation = \"relu\"))\n",
        "\n",
        "    model.add(MaxPool2D(pool_size = (2, 2), strides = (2, 2)))\n",
        "\n",
        "    model.add(Conv2D(filters = 128, kernel_size = (3, 3), padding = \"same\", activation = \"relu\"))\n",
        "    model.add(Conv2D(filters = 128, kernel_size = (3, 3), padding = \"same\", activation = \"relu\"))\n",
        "\n",
        "    model.add(MaxPool2D(pool_size = (2, 2), strides = (2, 2)))\n",
        "\n",
        "    model.add(Conv2D(filters = 256, kernel_size = (3, 3), padding = \"same\", activation = \"relu\"))\n",
        "    model.add(Conv2D(filters = 256, kernel_size = (3, 3), padding = \"same\", activation = \"relu\"))\n",
        "    model.add(Conv2D(filters = 256, kernel_size = (3, 3), padding = \"same\", activation = \"relu\"))\n",
        "\n",
        "    model.add(MaxPool2D(pool_size = (2, 2), strides = (2, 2)))\n",
        "\n",
        "    model.add(Conv2D(filters = 512, kernel_size = (3, 3), padding = \"same\", activation = \"relu\"))\n",
        "    model.add(Conv2D(filters = 512, kernel_size = (3, 3), padding = \"same\", activation = \"relu\"))\n",
        "    model.add(Conv2D(filters = 512, kernel_size = (3, 3), padding = \"same\", activation = \"relu\"))\n",
        "\n",
        "    model.add(MaxPool2D(pool_size = (2, 2), strides = (2, 2)))\n",
        "\n",
        "    model.add(Conv2D(filters = 512, kernel_size = (3, 3), padding = \"same\", activation = \"relu\"))\n",
        "    model.add(Conv2D(filters = 512, kernel_size = (3, 3), padding = \"same\", activation = \"relu\"))\n",
        "    model.add(Conv2D(filters = 512, kernel_size = (3, 3), padding = \"same\", activation = \"relu\"))\n",
        "\n",
        "    model.add(MaxPool2D(pool_size = (2, 2), strides = (2, 2)))\n",
        "\n",
        "    model.add(Flatten())\n",
        "\n",
        "    model.add(Dense(units = 4096, activation = \"relu\"))\n",
        "    model.add(Dense(units = 4096, activation = \"relu\"))\n",
        "\n",
        "    model.add(Dense(units = 9, activation = \"softmax\"))\n",
        "\n",
        "    opt = Adam(learning_rate = 0.001)\n",
        "\n",
        "    model.compile(optimizer = opt, loss = keras.losses.sparse_categorical_crossentropy, metrics = ['accuracy'])\n",
        "\n",
        "    model.fit(trainImages, trainLabels, epochs = 7)\n",
        "\n",
        "    pred = model.predict(testImages)\n",
        "\n",
        "    print(pred)"
      ],
      "execution_count": 54,
      "outputs": []
    },
    {
      "cell_type": "code",
      "metadata": {
        "id": "jT5XD13fi65t"
      },
      "source": [
        "def input(inputPathTrainImages, inputPathTrainLabels, inputPathTestImages, inputPathTestLabels):\n",
        "    trainImages = []\n",
        "    for imagePath in glob.glob(inputPathTrainImages):\n",
        "        image = imageio.imread(imagePath, pilmode = 'RGB')\n",
        "        trainImages.append(image)\n",
        "    \n",
        "    trainLabels = []\n",
        "    f = open(inputPathTrainLabels, 'r')\n",
        "    lines = f.readlines()\n",
        "    for line in lines:\n",
        "        trainLabels.append(int(line))\n",
        "        \n",
        "    testImages = []\n",
        "    for imagePath in glob.glob(inputPathTestImages):\n",
        "        image = imageio.imread(imagePath, pilmode = 'RGB')\n",
        "        testImages.append(image)\n",
        "        \n",
        "    testLabels = []\n",
        "    f = open(inputPathTestLabels, 'r')\n",
        "    lines = f.readlines()\n",
        "    for line in lines:\n",
        "        testLabels.append(int(line))\n",
        "        \n",
        "    return trainImages, trainLabels, testImages, testLabels"
      ],
      "execution_count": 55,
      "outputs": []
    },
    {
      "cell_type": "code",
      "metadata": {
        "colab": {
          "base_uri": "https://localhost:8080/",
          "height": 323
        },
        "id": "jLl41cj8jBC5",
        "outputId": "c41dd6d8-8a9f-43b9-d226-be9a60d2f80a"
      },
      "source": [
        "trainImages, trainLabels, testImages, testLabels = input('/content/gdrive/MyDrive/dataset/newTrainPCA/*jpg', '/content/gdrive/MyDrive/dataset/trainLabel.txt', '/content/gdrive/MyDrive/dataset/newTestPCA/*jpg', '/content/gdrive/MyDrive/dataset/testLabel.txt')"
      ],
      "execution_count": 56,
      "outputs": [
        {
          "output_type": "error",
          "ename": "KeyboardInterrupt",
          "evalue": "ignored",
          "traceback": [
            "\u001b[0;31m---------------------------------------------------------------------------\u001b[0m",
            "\u001b[0;31mKeyboardInterrupt\u001b[0m                         Traceback (most recent call last)",
            "\u001b[0;32m<ipython-input-56-38256c3ae2de>\u001b[0m in \u001b[0;36m<module>\u001b[0;34m()\u001b[0m\n\u001b[0;32m----> 1\u001b[0;31m \u001b[0mtrainImages\u001b[0m\u001b[0;34m,\u001b[0m \u001b[0mtrainLabels\u001b[0m\u001b[0;34m,\u001b[0m \u001b[0mtestImages\u001b[0m\u001b[0;34m,\u001b[0m \u001b[0mtestLabels\u001b[0m \u001b[0;34m=\u001b[0m \u001b[0minput\u001b[0m\u001b[0;34m(\u001b[0m\u001b[0;34m'/content/gdrive/MyDrive/dataset/train/*jpg'\u001b[0m\u001b[0;34m,\u001b[0m \u001b[0;34m'/content/gdrive/MyDrive/dataset/trainLabel.txt'\u001b[0m\u001b[0;34m,\u001b[0m \u001b[0;34m'/content/gdrive/MyDrive/dataset/test/*jpg'\u001b[0m\u001b[0;34m,\u001b[0m \u001b[0;34m'/content/gdrive/MyDrive/dataset/testLabel.txt'\u001b[0m\u001b[0;34m)\u001b[0m\u001b[0;34m\u001b[0m\u001b[0;34m\u001b[0m\u001b[0m\n\u001b[0m",
            "\u001b[0;32m<ipython-input-55-2ca326553ddd>\u001b[0m in \u001b[0;36minput\u001b[0;34m(inputPathTrainImages, inputPathTrainLabels, inputPathTestImages, inputPathTestLabels)\u001b[0m\n\u001b[1;32m      2\u001b[0m     \u001b[0mtrainImages\u001b[0m \u001b[0;34m=\u001b[0m \u001b[0;34m[\u001b[0m\u001b[0;34m]\u001b[0m\u001b[0;34m\u001b[0m\u001b[0;34m\u001b[0m\u001b[0m\n\u001b[1;32m      3\u001b[0m     \u001b[0;32mfor\u001b[0m \u001b[0mimagePath\u001b[0m \u001b[0;32min\u001b[0m \u001b[0mglob\u001b[0m\u001b[0;34m.\u001b[0m\u001b[0mglob\u001b[0m\u001b[0;34m(\u001b[0m\u001b[0minputPathTrainImages\u001b[0m\u001b[0;34m)\u001b[0m\u001b[0;34m:\u001b[0m\u001b[0;34m\u001b[0m\u001b[0;34m\u001b[0m\u001b[0m\n\u001b[0;32m----> 4\u001b[0;31m         \u001b[0mimage\u001b[0m \u001b[0;34m=\u001b[0m \u001b[0mimageio\u001b[0m\u001b[0;34m.\u001b[0m\u001b[0mimread\u001b[0m\u001b[0;34m(\u001b[0m\u001b[0mimagePath\u001b[0m\u001b[0;34m,\u001b[0m \u001b[0mpilmode\u001b[0m \u001b[0;34m=\u001b[0m \u001b[0;34m'RGB'\u001b[0m\u001b[0;34m)\u001b[0m\u001b[0;34m\u001b[0m\u001b[0;34m\u001b[0m\u001b[0m\n\u001b[0m\u001b[1;32m      5\u001b[0m         \u001b[0mtrainImages\u001b[0m\u001b[0;34m.\u001b[0m\u001b[0mappend\u001b[0m\u001b[0;34m(\u001b[0m\u001b[0mimage\u001b[0m\u001b[0;34m)\u001b[0m\u001b[0;34m\u001b[0m\u001b[0;34m\u001b[0m\u001b[0m\n\u001b[1;32m      6\u001b[0m \u001b[0;34m\u001b[0m\u001b[0m\n",
            "\u001b[0;32m/usr/local/lib/python3.7/dist-packages/imageio/core/functions.py\u001b[0m in \u001b[0;36mimread\u001b[0;34m(uri, format, **kwargs)\u001b[0m\n\u001b[1;32m    219\u001b[0m \u001b[0;34m\u001b[0m\u001b[0m\n\u001b[1;32m    220\u001b[0m     \u001b[0;31m# Get reader and read first\u001b[0m\u001b[0;34m\u001b[0m\u001b[0;34m\u001b[0m\u001b[0;34m\u001b[0m\u001b[0m\n\u001b[0;32m--> 221\u001b[0;31m     \u001b[0mreader\u001b[0m \u001b[0;34m=\u001b[0m \u001b[0mread\u001b[0m\u001b[0;34m(\u001b[0m\u001b[0muri\u001b[0m\u001b[0;34m,\u001b[0m \u001b[0mformat\u001b[0m\u001b[0;34m,\u001b[0m \u001b[0;34m\"i\"\u001b[0m\u001b[0;34m,\u001b[0m \u001b[0;34m**\u001b[0m\u001b[0mkwargs\u001b[0m\u001b[0;34m)\u001b[0m\u001b[0;34m\u001b[0m\u001b[0;34m\u001b[0m\u001b[0m\n\u001b[0m\u001b[1;32m    222\u001b[0m     \u001b[0;32mwith\u001b[0m \u001b[0mreader\u001b[0m\u001b[0;34m:\u001b[0m\u001b[0;34m\u001b[0m\u001b[0;34m\u001b[0m\u001b[0m\n\u001b[1;32m    223\u001b[0m         \u001b[0;32mreturn\u001b[0m \u001b[0mreader\u001b[0m\u001b[0;34m.\u001b[0m\u001b[0mget_data\u001b[0m\u001b[0;34m(\u001b[0m\u001b[0;36m0\u001b[0m\u001b[0;34m)\u001b[0m\u001b[0;34m\u001b[0m\u001b[0;34m\u001b[0m\u001b[0m\n",
            "\u001b[0;32m/usr/local/lib/python3.7/dist-packages/imageio/core/functions.py\u001b[0m in \u001b[0;36mget_reader\u001b[0;34m(uri, format, mode, **kwargs)\u001b[0m\n\u001b[1;32m    134\u001b[0m         \u001b[0mformat\u001b[0m \u001b[0;34m=\u001b[0m \u001b[0mformats\u001b[0m\u001b[0;34m[\u001b[0m\u001b[0mformat\u001b[0m\u001b[0;34m]\u001b[0m\u001b[0;34m\u001b[0m\u001b[0;34m\u001b[0m\u001b[0m\n\u001b[1;32m    135\u001b[0m     \u001b[0;32melse\u001b[0m\u001b[0;34m:\u001b[0m\u001b[0;34m\u001b[0m\u001b[0;34m\u001b[0m\u001b[0m\n\u001b[0;32m--> 136\u001b[0;31m         \u001b[0mformat\u001b[0m \u001b[0;34m=\u001b[0m \u001b[0mformats\u001b[0m\u001b[0;34m.\u001b[0m\u001b[0msearch_read_format\u001b[0m\u001b[0;34m(\u001b[0m\u001b[0mrequest\u001b[0m\u001b[0;34m)\u001b[0m\u001b[0;34m\u001b[0m\u001b[0;34m\u001b[0m\u001b[0m\n\u001b[0m\u001b[1;32m    137\u001b[0m     \u001b[0;32mif\u001b[0m \u001b[0mformat\u001b[0m \u001b[0;32mis\u001b[0m \u001b[0;32mNone\u001b[0m\u001b[0;34m:\u001b[0m\u001b[0;34m\u001b[0m\u001b[0;34m\u001b[0m\u001b[0m\n\u001b[1;32m    138\u001b[0m         raise ValueError(\n",
            "\u001b[0;32m/usr/local/lib/python3.7/dist-packages/imageio/core/format.py\u001b[0m in \u001b[0;36msearch_read_format\u001b[0;34m(self, request)\u001b[0m\n\u001b[1;32m    685\u001b[0m         \u001b[0;31m# Select the first that can\u001b[0m\u001b[0;34m\u001b[0m\u001b[0;34m\u001b[0m\u001b[0;34m\u001b[0m\u001b[0m\n\u001b[1;32m    686\u001b[0m         \u001b[0;32mfor\u001b[0m \u001b[0mformat\u001b[0m \u001b[0;32min\u001b[0m \u001b[0mselected_formats\u001b[0m\u001b[0;34m:\u001b[0m\u001b[0;34m\u001b[0m\u001b[0;34m\u001b[0m\u001b[0m\n\u001b[0;32m--> 687\u001b[0;31m             \u001b[0;32mif\u001b[0m \u001b[0mformat\u001b[0m\u001b[0;34m.\u001b[0m\u001b[0mcan_read\u001b[0m\u001b[0;34m(\u001b[0m\u001b[0mrequest\u001b[0m\u001b[0;34m)\u001b[0m\u001b[0;34m:\u001b[0m\u001b[0;34m\u001b[0m\u001b[0;34m\u001b[0m\u001b[0m\n\u001b[0m\u001b[1;32m    688\u001b[0m                 \u001b[0;32mreturn\u001b[0m \u001b[0mformat\u001b[0m\u001b[0;34m\u001b[0m\u001b[0;34m\u001b[0m\u001b[0m\n\u001b[1;32m    689\u001b[0m \u001b[0;34m\u001b[0m\u001b[0m\n",
            "\u001b[0;32m/usr/local/lib/python3.7/dist-packages/imageio/core/format.py\u001b[0m in \u001b[0;36mcan_read\u001b[0;34m(self, request)\u001b[0m\n\u001b[1;32m    193\u001b[0m         \u001b[0mGet\u001b[0m \u001b[0mwhether\u001b[0m \u001b[0mthis\u001b[0m \u001b[0mformat\u001b[0m \u001b[0mcan\u001b[0m \u001b[0mread\u001b[0m \u001b[0mdata\u001b[0m \u001b[0;32mfrom\u001b[0m \u001b[0mthe\u001b[0m \u001b[0mspecified\u001b[0m \u001b[0muri\u001b[0m\u001b[0;34m.\u001b[0m\u001b[0;34m\u001b[0m\u001b[0;34m\u001b[0m\u001b[0m\n\u001b[1;32m    194\u001b[0m         \"\"\"\n\u001b[0;32m--> 195\u001b[0;31m         \u001b[0;32mreturn\u001b[0m \u001b[0mself\u001b[0m\u001b[0;34m.\u001b[0m\u001b[0m_can_read\u001b[0m\u001b[0;34m(\u001b[0m\u001b[0mrequest\u001b[0m\u001b[0;34m)\u001b[0m\u001b[0;34m\u001b[0m\u001b[0;34m\u001b[0m\u001b[0m\n\u001b[0m\u001b[1;32m    196\u001b[0m \u001b[0;34m\u001b[0m\u001b[0m\n\u001b[1;32m    197\u001b[0m     \u001b[0;32mdef\u001b[0m \u001b[0mcan_write\u001b[0m\u001b[0;34m(\u001b[0m\u001b[0mself\u001b[0m\u001b[0;34m,\u001b[0m \u001b[0mrequest\u001b[0m\u001b[0;34m)\u001b[0m\u001b[0;34m:\u001b[0m\u001b[0;34m\u001b[0m\u001b[0;34m\u001b[0m\u001b[0m\n",
            "\u001b[0;32m/usr/local/lib/python3.7/dist-packages/imageio/plugins/pillow.py\u001b[0m in \u001b[0;36m_can_read\u001b[0;34m(self, request)\u001b[0m\n\u001b[1;32m    102\u001b[0m                 \u001b[0mfactory\u001b[0m\u001b[0;34m,\u001b[0m \u001b[0maccept\u001b[0m \u001b[0;34m=\u001b[0m \u001b[0mImage\u001b[0m\u001b[0;34m.\u001b[0m\u001b[0mOPEN\u001b[0m\u001b[0;34m[\u001b[0m\u001b[0mself\u001b[0m\u001b[0;34m.\u001b[0m\u001b[0mplugin_id\u001b[0m\u001b[0;34m]\u001b[0m\u001b[0;34m\u001b[0m\u001b[0;34m\u001b[0m\u001b[0m\n\u001b[1;32m    103\u001b[0m                 \u001b[0;32mif\u001b[0m \u001b[0maccept\u001b[0m\u001b[0;34m:\u001b[0m\u001b[0;34m\u001b[0m\u001b[0;34m\u001b[0m\u001b[0m\n\u001b[0;32m--> 104\u001b[0;31m                     \u001b[0;32mif\u001b[0m \u001b[0mrequest\u001b[0m\u001b[0;34m.\u001b[0m\u001b[0mfirstbytes\u001b[0m \u001b[0;32mand\u001b[0m \u001b[0maccept\u001b[0m\u001b[0;34m(\u001b[0m\u001b[0mrequest\u001b[0m\u001b[0;34m.\u001b[0m\u001b[0mfirstbytes\u001b[0m\u001b[0;34m)\u001b[0m\u001b[0;34m:\u001b[0m\u001b[0;34m\u001b[0m\u001b[0;34m\u001b[0m\u001b[0m\n\u001b[0m\u001b[1;32m    105\u001b[0m                         \u001b[0;32mreturn\u001b[0m \u001b[0;32mTrue\u001b[0m\u001b[0;34m\u001b[0m\u001b[0;34m\u001b[0m\u001b[0m\n\u001b[1;32m    106\u001b[0m \u001b[0;34m\u001b[0m\u001b[0m\n",
            "\u001b[0;32m/usr/local/lib/python3.7/dist-packages/imageio/core/request.py\u001b[0m in \u001b[0;36mfirstbytes\u001b[0;34m(self)\u001b[0m\n\u001b[1;32m    445\u001b[0m         \"\"\"\n\u001b[1;32m    446\u001b[0m         \u001b[0;32mif\u001b[0m \u001b[0mself\u001b[0m\u001b[0;34m.\u001b[0m\u001b[0m_firstbytes\u001b[0m \u001b[0;32mis\u001b[0m \u001b[0;32mNone\u001b[0m\u001b[0;34m:\u001b[0m\u001b[0;34m\u001b[0m\u001b[0;34m\u001b[0m\u001b[0m\n\u001b[0;32m--> 447\u001b[0;31m             \u001b[0mself\u001b[0m\u001b[0;34m.\u001b[0m\u001b[0m_read_first_bytes\u001b[0m\u001b[0;34m(\u001b[0m\u001b[0;34m)\u001b[0m\u001b[0;34m\u001b[0m\u001b[0;34m\u001b[0m\u001b[0m\n\u001b[0m\u001b[1;32m    448\u001b[0m         \u001b[0;32mreturn\u001b[0m \u001b[0mself\u001b[0m\u001b[0;34m.\u001b[0m\u001b[0m_firstbytes\u001b[0m\u001b[0;34m\u001b[0m\u001b[0;34m\u001b[0m\u001b[0m\n\u001b[1;32m    449\u001b[0m \u001b[0;34m\u001b[0m\u001b[0m\n",
            "\u001b[0;32m/usr/local/lib/python3.7/dist-packages/imageio/core/request.py\u001b[0m in \u001b[0;36m_read_first_bytes\u001b[0;34m(self, N)\u001b[0m\n\u001b[1;32m    454\u001b[0m             \u001b[0;31m# Prepare\u001b[0m\u001b[0;34m\u001b[0m\u001b[0;34m\u001b[0m\u001b[0;34m\u001b[0m\u001b[0m\n\u001b[1;32m    455\u001b[0m             \u001b[0;32mtry\u001b[0m\u001b[0;34m:\u001b[0m\u001b[0;34m\u001b[0m\u001b[0;34m\u001b[0m\u001b[0m\n\u001b[0;32m--> 456\u001b[0;31m                 \u001b[0mf\u001b[0m \u001b[0;34m=\u001b[0m \u001b[0mself\u001b[0m\u001b[0;34m.\u001b[0m\u001b[0mget_file\u001b[0m\u001b[0;34m(\u001b[0m\u001b[0;34m)\u001b[0m\u001b[0;34m\u001b[0m\u001b[0;34m\u001b[0m\u001b[0m\n\u001b[0m\u001b[1;32m    457\u001b[0m             \u001b[0;32mexcept\u001b[0m \u001b[0mIOError\u001b[0m\u001b[0;34m:\u001b[0m\u001b[0;34m\u001b[0m\u001b[0;34m\u001b[0m\u001b[0m\n\u001b[1;32m    458\u001b[0m                 \u001b[0;32mif\u001b[0m \u001b[0mos\u001b[0m\u001b[0;34m.\u001b[0m\u001b[0mpath\u001b[0m\u001b[0;34m.\u001b[0m\u001b[0misdir\u001b[0m\u001b[0;34m(\u001b[0m\u001b[0mself\u001b[0m\u001b[0;34m.\u001b[0m\u001b[0mfilename\u001b[0m\u001b[0;34m)\u001b[0m\u001b[0;34m:\u001b[0m  \u001b[0;31m# A directory, e.g. for DICOM\u001b[0m\u001b[0;34m\u001b[0m\u001b[0;34m\u001b[0m\u001b[0m\n",
            "\u001b[0;32m/usr/local/lib/python3.7/dist-packages/imageio/core/request.py\u001b[0m in \u001b[0;36mget_file\u001b[0;34m(self)\u001b[0m\n\u001b[1;32m    342\u001b[0m                 \u001b[0mself\u001b[0m\u001b[0;34m.\u001b[0m\u001b[0m_file\u001b[0m \u001b[0;34m=\u001b[0m \u001b[0mopen\u001b[0m\u001b[0;34m(\u001b[0m\u001b[0mself\u001b[0m\u001b[0;34m.\u001b[0m\u001b[0mfilename\u001b[0m\u001b[0;34m,\u001b[0m \u001b[0;34m\"wb\"\u001b[0m\u001b[0;34m)\u001b[0m\u001b[0;34m\u001b[0m\u001b[0;34m\u001b[0m\u001b[0m\n\u001b[1;32m    343\u001b[0m             \u001b[0;32melse\u001b[0m\u001b[0;34m:\u001b[0m\u001b[0;34m\u001b[0m\u001b[0;34m\u001b[0m\u001b[0m\n\u001b[0;32m--> 344\u001b[0;31m                 \u001b[0mself\u001b[0m\u001b[0;34m.\u001b[0m\u001b[0m_file\u001b[0m \u001b[0;34m=\u001b[0m \u001b[0mopen\u001b[0m\u001b[0;34m(\u001b[0m\u001b[0mself\u001b[0m\u001b[0;34m.\u001b[0m\u001b[0mfilename\u001b[0m\u001b[0;34m,\u001b[0m \u001b[0;34m\"rb\"\u001b[0m\u001b[0;34m)\u001b[0m\u001b[0;34m\u001b[0m\u001b[0;34m\u001b[0m\u001b[0m\n\u001b[0m\u001b[1;32m    345\u001b[0m \u001b[0;34m\u001b[0m\u001b[0m\n\u001b[1;32m    346\u001b[0m         \u001b[0;32melif\u001b[0m \u001b[0mself\u001b[0m\u001b[0;34m.\u001b[0m\u001b[0m_uri_type\u001b[0m \u001b[0;34m==\u001b[0m \u001b[0mURI_ZIPPED\u001b[0m\u001b[0;34m:\u001b[0m\u001b[0;34m\u001b[0m\u001b[0;34m\u001b[0m\u001b[0m\n",
            "\u001b[0;31mKeyboardInterrupt\u001b[0m: "
          ]
        }
      ]
    },
    {
      "cell_type": "code",
      "metadata": {
        "id": "UgQVYD-QzMQk"
      },
      "source": [
        "svm(trainImages, trainLabels, testImages, testLabels)"
      ],
      "execution_count": null,
      "outputs": []
    }
  ]
}