{
  "nbformat": 4,
  "nbformat_minor": 0,
  "metadata": {
    "colab": {
      "name": "VehicleColorRecognition.ipynb",
      "provenance": [],
      "authorship_tag": "ABX9TyMjn6lbdcHsDEpb3qWlKr5J",
      "include_colab_link": true
    },
    "kernelspec": {
      "name": "python3",
      "display_name": "Python 3"
    },
    "language_info": {
      "name": "python"
    }
  },
  "cells": [
    {
      "cell_type": "markdown",
      "metadata": {
        "id": "view-in-github",
        "colab_type": "text"
      },
      "source": [
        "<a href=\"https://colab.research.google.com/github/DananauRazvan/Vehicle-Color-Recognition/blob/main/VehicleColorRecognition.ipynb\" target=\"_parent\"><img src=\"https://colab.research.google.com/assets/colab-badge.svg\" alt=\"Open In Colab\"/></a>"
      ]
    },
    {
      "cell_type": "code",
      "metadata": {
        "id": "_wipI8BVe8Iu"
      },
      "source": [
        "import glob\n",
        "import imageio\n",
        "import keras\n",
        "from keras.models import Sequential\n",
        "from keras.layers import Dense, Conv2D, MaxPool2D, Flatten\n",
        "from keras.optimizers import Adam\n",
        "import tensorflow\n",
        "from imageai.Detection import ObjectDetection\n",
        "from PIL import Image\n",
        "from sklearn.decomposition import PCA\n",
        "import cv2\n",
        "from sklearn.neighbors import KNeighborsClassifier\n",
        "import numpy as np\n",
        "from sklearn.preprocessing import StandardScaler\n",
        "from sklearn import metrics\n",
        "from sklearn.cluster import KMeans\n",
        "import matplotlib.pyplot as plt\n",
        "from matplotlib.colors import ListedColormap\n",
        "from sklearn.svm import SVC\n",
        "from sklearn.naive_bayes import GaussianNB\n",
        "from sklearn_som.som import SOM"
      ],
      "execution_count": 3,
      "outputs": []
    },
    {
      "cell_type": "code",
      "metadata": {
        "id": "87XxatWgg1l5"
      },
      "source": [
        "def vehicleDetector(inputPath, outputPath):\n",
        "    detector = ObjectDetection()\n",
        "\n",
        "    modelPath = 'C:/Users/razva/OneDrive/Desktop/Vehicle Color Recognition/yolo.h5'\n",
        "\n",
        "    detector.setModelTypeAsYOLOv3()\n",
        "    detector.setModelPath(modelPath, )\n",
        "    detector.loadModel(detection_speed = 'flash')\n",
        "\n",
        "    for imagePath in glob.glob(inputPath):\n",
        "        returnedImage, detection = detector.detectObjectsFromImage(input_image = imagePath, output_type = 'array')\n",
        "        maxPercentageProbability = 0\n",
        "        index = -1\n",
        "        i = -1\n",
        "        ok = False\n",
        "        for eachItem in detection:\n",
        "            i += 1\n",
        "            if (eachItem['name'] == 'car' or eachItem['name'] == 'truck' or eachItem['name'] == 'motorcycle') and eachItem['percentage_probability'] > maxPercentageProbability:\n",
        "                index = i\n",
        "                maxPercentageProbability = eachItem['percentage_probability']\n",
        "                ok = True\n",
        "\n",
        "        if ok:\n",
        "            print(detection[index]['name'], \" : \", detection[index]['percentage_probability'], \" : \", detection[index]['box_points'])\n",
        "            image = Image.open(imagePath)\n",
        "            box = detection[index]['box_points']\n",
        "            image = image.crop(box)\n",
        "            image = image.resize((224, 224))\n",
        "            image.save(outputPath + imagePath[71:])\n",
        "        else:\n",
        "            print('undetectable')\n",
        "            image = Image.open(imagePath)\n",
        "            image = image.resize((224, 224))\n",
        "            image.save(outputPath + imagePath[71:])\n",
        "            continue"
      ],
      "execution_count": 4,
      "outputs": []
    },
    {
      "cell_type": "code",
      "metadata": {
        "id": "Luxp3blug71d"
      },
      "source": [
        "def principalComponentAnalysis(inputPath, outputPath):\n",
        "    for imagePath in glob.glob(inputPath):\n",
        "        image = cv2.imread(imagePath)\n",
        "\n",
        "        red, green, blue = cv2.split(image)\n",
        "\n",
        "        dfRed = red / 255\n",
        "        dfBlue = blue / 255\n",
        "        dfGreen = green / 255\n",
        "\n",
        "        pcaRed = PCA(n_components = 10)\n",
        "        pcaRed.fit(dfRed)\n",
        "        transPcaRed = pcaRed.transform(dfRed)\n",
        "        pcaBlue = PCA(n_components = 10)\n",
        "        pcaBlue.fit(dfBlue)\n",
        "        transPcaBlue = pcaBlue.transform(dfBlue)\n",
        "        pcaGreen = PCA(n_components = 10)\n",
        "        pcaGreen.fit(dfGreen)\n",
        "        transPcaGreen = pcaGreen.transform(dfGreen)\n",
        "\n",
        "        redArr = pcaRed.inverse_transform(transPcaRed)\n",
        "        blueArr = pcaBlue.inverse_transform(transPcaBlue)\n",
        "        greenArr = pcaGreen.inverse_transform(transPcaGreen)\n",
        "\n",
        "        imageReduced = (cv2.merge((redArr, greenArr, blueArr)))\n",
        "\n",
        "        if inputPath == 'C:/Users/razva/OneDrive/Desktop/Vehicle Color Recognition/dataset/newTrain/*.jpg':\n",
        "            name = imagePath[75:]\n",
        "        else:\n",
        "            name = imagePath[74:]\n",
        "\n",
        "        cv2.imwrite(outputPath + name, imageReduced * 255)"
      ],
      "execution_count": 8,
      "outputs": []
    },
    {
      "cell_type": "code",
      "metadata": {
        "id": "ZFMabcJgiYO-"
      },
      "source": [
        "def knn(trainImages, trainLabels, testImages, testLabels, k = 59, dist = 'manhattan'):\n",
        "    trainImages = np.array(trainImages)\n",
        "    nr, height, width, dim = trainImages.shape\n",
        "    trainImages = trainImages.reshape(nr, height * width * dim)\n",
        "\n",
        "    testImages = np.array(testImages)\n",
        "    nr, height, width, dim = testImages.shape\n",
        "    testImages = testImages.reshape(nr, height * width * dim)\n",
        "\n",
        "    scaler = StandardScaler()\n",
        "\n",
        "    scaler.fit(trainImages)\n",
        "\n",
        "    trainImages = scaler.transform(trainImages)\n",
        "    testImages = scaler.transform(testImages)\n",
        "\n",
        "    classifier = KNeighborsClassifier(n_neighbors = k, metric = dist)\n",
        "\n",
        "    classifier.fit(trainImages, trainLabels)\n",
        "\n",
        "    pred = classifier.predict(testImages)\n",
        "\n",
        "    print(metrics.accuracy_score(testLabels, pred))\n",
        "\n",
        "    print(metrics.classification_report(testLabels, pred))\n",
        "\n",
        "    print(metrics.confusion_matrix(testLabels, pred))\n",
        "\n",
        "    return metrics.accuracy_score(testLabels, pred)"
      ],
      "execution_count": 9,
      "outputs": []
    },
    {
      "cell_type": "code",
      "metadata": {
        "id": "PzREDaKJicQV"
      },
      "source": [
        "def findOptimalK():\n",
        "    accuracy = []\n",
        "    for i in range(1, 100):\n",
        "        accuracy.append(knn(trainImages, trainLabels, testImages, testLabels, i))\n",
        "    accuracy = np.array(accuracy)\n",
        "\n",
        "    plt.figure(figsize = (10, 6))\n",
        "    plt.plot(range(1, 100), accuracy, color = 'red', linestyle = 'dashed', marker = 'o', markerfacecolor = 'blue', markersize = 8)\n",
        "    plt.title('Manhattan Distance')\n",
        "    plt.xlabel('K')\n",
        "    plt.ylabel('Accuracy')\n",
        "\n",
        "    plt.show()"
      ],
      "execution_count": 10,
      "outputs": []
    },
    {
      "cell_type": "code",
      "metadata": {
        "id": "Xcr25cXhis_d"
      },
      "source": [
        "def svm(trainImages, trainLabels, testImages, testLabels):\n",
        "    trainImages = np.array(trainImages)\n",
        "    nr, height, width, dim = trainImages.shape\n",
        "    trainImages = trainImages.reshape(nr, height * width * dim)\n",
        "\n",
        "    testImages = np.array(testImages)\n",
        "    nr, height, width, dim = testImages.shape\n",
        "    testImages = testImages.reshape(nr, height * width * dim)\n",
        "\n",
        "    scaler = StandardScaler()\n",
        "\n",
        "    scaler.fit(trainImages)\n",
        "\n",
        "    trainImages = scaler.transform(trainImages)\n",
        "    testImages = scaler.transform(testImages)\n",
        "\n",
        "    classifier = SVC(kernel = 'linear')\n",
        "\n",
        "    classifier.fit(trainImages, trainLabels)\n",
        "\n",
        "    pred = classifier.predict(testImages)\n",
        "\n",
        "    print(metrics.accuracy_score(testLabels, pred))\n",
        "\n",
        "    print(metrics.classification_report(testLabels, pred))\n",
        "\n",
        "    print(metrics.confusion_matrix(testLabels, pred))"
      ],
      "execution_count": 15,
      "outputs": []
    },
    {
      "cell_type": "code",
      "metadata": {
        "id": "7hspNxQUiwRE"
      },
      "source": [
        "def naiveBayes(trainImages, trainLabels, testImages, testLabels):\n",
        "    trainImages = np.array(trainImages)\n",
        "    nr, height, width, dim = trainImages.shape\n",
        "    trainImages = trainImages.reshape(nr, height * width * dim)\n",
        "\n",
        "    testImages = np.array(testImages)\n",
        "    nr, height, width, dim = testImages.shape\n",
        "    testImages = testImages.reshape(nr, height * width * dim)\n",
        "\n",
        "    scaler = StandardScaler()\n",
        "\n",
        "    scaler.fit(trainImages)\n",
        "\n",
        "    trainImages = scaler.transform(trainImages)\n",
        "    testImages = scaler.transform(testImages)\n",
        "\n",
        "    classifier = GaussianNB()\n",
        "\n",
        "    classifier.fit(trainImages, trainLabels)\n",
        "\n",
        "    pred = classifier.predict(testImages)\n",
        "\n",
        "    print(metrics.accuracy_score(testLabels, pred))\n",
        "\n",
        "    print(metrics.classification_report(testLabels, pred))\n",
        "\n",
        "    print(metrics.confusion_matrix(testLabels, pred))"
      ],
      "execution_count": 16,
      "outputs": []
    },
    {
      "cell_type": "code",
      "metadata": {
        "id": "e9hSUfleixXn"
      },
      "source": [
        "def kMeansClustering(trainImages):\n",
        "    trainImages = np.array(trainImages)\n",
        "    nr, height, width, dim = trainImages.shape\n",
        "    trainImages = trainImages.reshape(nr, height * width * dim)\n",
        "\n",
        "    \"\"\"\n",
        "    plt.scatter(trainImages[:, 0], trainImages[:, 1])\n",
        "    plt.show()\n",
        "    \"\"\"\n",
        "\n",
        "    clustering = KMeans(n_clusters = 9)\n",
        "\n",
        "    clustering.fit(trainImages)\n",
        "\n",
        "    plt.scatter(trainImages[:, 0], trainImages[:, 1], c = clustering.labels_, cmap = 'rainbow')\n",
        "    plt.show()"
      ],
      "execution_count": 17,
      "outputs": []
    },
    {
      "cell_type": "code",
      "metadata": {
        "id": "PleZ4IpBi2-V"
      },
      "source": [
        "def selfOrganizingMaps(images, labels):\n",
        "    images = np.array(images)\n",
        "    nr, height, width, dim = images.shape\n",
        "    images = images.reshape(nr, height * width * dim)\n",
        "\n",
        "    scaler = StandardScaler()\n",
        "\n",
        "    scaler.fit(images)\n",
        "\n",
        "    images = scaler.transform(images)\n",
        "\n",
        "    cls = SOM(m = 9, n = 1, dim = height * width * dim)\n",
        "\n",
        "    cls.fit(images)\n",
        "\n",
        "    pred = cls.predict(images)\n",
        "\n",
        "    fig, ax = plt.subplots(nrows = 2, ncols = 1, figsize = (5, 7))\n",
        "    x = images[:, 0]\n",
        "    y = images[:, 1]\n",
        "    colors = ['black', 'blue', 'brown', 'green', 'pink', 'red', 'silver', 'white', 'yellow']\n",
        "\n",
        "    ax[0].scatter(x, y, c = labels, cmap = ListedColormap(colors))\n",
        "    ax[0].title.set_text('Actual Classes Standardization')\n",
        "    ax[1].scatter(x, y, c = pred, cmap = ListedColormap(colors))\n",
        "    ax[1].title.set_text('SOM Predictions Standardization')\n",
        "\n",
        "    plt.show()"
      ],
      "execution_count": 18,
      "outputs": []
    },
    {
      "cell_type": "code",
      "metadata": {
        "id": "eG4VVnjQi33G"
      },
      "source": [
        "def vgg16(trainImages, trainLabels, testImages, testLabels):\n",
        "    trainImages = np.array(trainImages)\n",
        "    trainLabels = np.array(trainLabels)\n",
        "    testImages = np.array(testImages)\n",
        "    testLabels = np.array(testLabels)\n",
        "\n",
        "    model = Sequential()\n",
        "\n",
        "    model.add(Conv2D(input_shape = (224, 224, 3), filters = 64, kernel_size = (3, 3), padding = \"same\", activation = \"relu\"))\n",
        "    model.add(Conv2D(filters = 64, kernel_size = (3, 3), padding = \"same\", activation = \"relu\"))\n",
        "\n",
        "    model.add(MaxPool2D(pool_size = (2, 2), strides = (2, 2)))\n",
        "\n",
        "    model.add(Conv2D(filters = 128, kernel_size = (3, 3), padding = \"same\", activation = \"relu\"))\n",
        "    model.add(Conv2D(filters = 128, kernel_size = (3, 3), padding = \"same\", activation = \"relu\"))\n",
        "\n",
        "    model.add(MaxPool2D(pool_size = (2, 2), strides = (2, 2)))\n",
        "\n",
        "    model.add(Conv2D(filters = 256, kernel_size = (3, 3), padding = \"same\", activation = \"relu\"))\n",
        "    model.add(Conv2D(filters = 256, kernel_size = (3, 3), padding = \"same\", activation = \"relu\"))\n",
        "    model.add(Conv2D(filters = 256, kernel_size = (3, 3), padding = \"same\", activation = \"relu\"))\n",
        "\n",
        "    model.add(MaxPool2D(pool_size = (2, 2), strides = (2, 2)))\n",
        "\n",
        "    model.add(Conv2D(filters = 512, kernel_size = (3, 3), padding = \"same\", activation = \"relu\"))\n",
        "    model.add(Conv2D(filters = 512, kernel_size = (3, 3), padding = \"same\", activation = \"relu\"))\n",
        "    model.add(Conv2D(filters = 512, kernel_size = (3, 3), padding = \"same\", activation = \"relu\"))\n",
        "\n",
        "    model.add(MaxPool2D(pool_size = (2, 2), strides = (2, 2)))\n",
        "\n",
        "    model.add(Conv2D(filters = 512, kernel_size = (3, 3), padding = \"same\", activation = \"relu\"))\n",
        "    model.add(Conv2D(filters = 512, kernel_size = (3, 3), padding = \"same\", activation = \"relu\"))\n",
        "    model.add(Conv2D(filters = 512, kernel_size = (3, 3), padding = \"same\", activation = \"relu\"))\n",
        "\n",
        "    model.add(MaxPool2D(pool_size = (2, 2), strides = (2, 2)))\n",
        "\n",
        "    model.add(Flatten())\n",
        "\n",
        "    model.add(Dense(units = 4096, activation = \"relu\"))\n",
        "    model.add(Dense(units = 4096, activation = \"relu\"))\n",
        "\n",
        "    model.add(Dense(units = 9, activation = \"softmax\"))\n",
        "\n",
        "    opt = Adam(learning_rate = 0.001)\n",
        "\n",
        "    model.compile(optimizer = opt, loss = keras.losses.sparse_categorical_crossentropy, metrics = ['accuracy'])\n",
        "\n",
        "    model.fit(trainImages, trainLabels, epochs = 7)\n",
        "\n",
        "    pred = model.predict(testImages)\n",
        "\n",
        "    print(pred)"
      ],
      "execution_count": 19,
      "outputs": []
    },
    {
      "cell_type": "code",
      "metadata": {
        "id": "jT5XD13fi65t"
      },
      "source": [
        "def input(inputPathTrainImages, inputPathTrainLabels, inputPathTestImages, inputPathTestLabels):\n",
        "    trainImages = []\n",
        "    for imagePath in glob.glob(inputPathTrainImages):\n",
        "        image = imageio.imread(imagePath, pilmode = 'RGB')\n",
        "        trainImages.append(image)\n",
        "    trainLabels = []\n",
        "    f = open(inputPathTrainLabels, 'r')\n",
        "    lines = f.readlines()\n",
        "    for line in lines:\n",
        "        trainLabels.append(int(line))\n",
        "\n",
        "    testImages = []\n",
        "    for imagePath in glob.glob(inputPathTestImages):\n",
        "        image = imageio.imread(imagePath, pilmode = 'RGB')\n",
        "        testImages.append(image)\n",
        "\n",
        "    testLabels = []\n",
        "    f = open(inputPathTestLabels, 'r')\n",
        "    lines = f.readlines()\n",
        "    for line in lines:\n",
        "        testLabels.append(int(line))\n",
        "    return trainImages, trainLabels, testImages, testLabels"
      ],
      "execution_count": 22,
      "outputs": []
    },
    {
      "cell_type": "code",
      "metadata": {
        "colab": {
          "base_uri": "https://localhost:8080/",
          "height": 163
        },
        "id": "jLl41cj8jBC5",
        "outputId": "55cb94f0-ca4c-4a8e-fd9e-12cf02966cfc"
      },
      "source": [
        "svm(trainImages, trainLabels, testImages, testLabels)"
      ],
      "execution_count": 21,
      "outputs": [
        {
          "output_type": "error",
          "ename": "NameError",
          "evalue": "ignored",
          "traceback": [
            "\u001b[0;31m---------------------------------------------------------------------------\u001b[0m",
            "\u001b[0;31mNameError\u001b[0m                                 Traceback (most recent call last)",
            "\u001b[0;32m<ipython-input-21-0ff3e96afb01>\u001b[0m in \u001b[0;36m<module>\u001b[0;34m()\u001b[0m\n\u001b[0;32m----> 1\u001b[0;31m \u001b[0msvm\u001b[0m\u001b[0;34m(\u001b[0m\u001b[0mtrainImages\u001b[0m\u001b[0;34m,\u001b[0m \u001b[0mtrainLabels\u001b[0m\u001b[0;34m,\u001b[0m \u001b[0mtestImages\u001b[0m\u001b[0;34m,\u001b[0m \u001b[0mtestLabels\u001b[0m\u001b[0;34m)\u001b[0m\u001b[0;34m\u001b[0m\u001b[0;34m\u001b[0m\u001b[0m\n\u001b[0m",
            "\u001b[0;31mNameError\u001b[0m: name 'trainImages' is not defined"
          ]
        }
      ]
    }
  ]
}